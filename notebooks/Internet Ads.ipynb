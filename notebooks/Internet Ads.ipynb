{
  "cells": [
    {
      "cell_type": "code",
      "execution_count": 2,
      "metadata": {
        "scrolled": false,
        "pycharm": {
          "is_executing": false
        }
      },
      "outputs": [],
      "source": "import pandas as pd\nimport numpy as np\nimport os\n\n# Import columns\nf \u003d open(\u0027../data/dictionary\u0027,\u0027r\u0027)\ncolumns_string \u003d f.read()\ncolumns \u003d columns_string.split(\u0027,\u0027)"
    },
    {
      "cell_type": "code",
      "execution_count": 3,
      "metadata": {
        "pycharm": {
          "is_executing": false
        }
      },
      "outputs": [],
      "source": "# Import the dataset\ndataset \u003d pd.read_csv(\n    \u0027../data/ad.data\u0027,\n    header\u003dNone,\n    names\u003dcolumns,\n    encoding\u003d\u0027utf-8\u0027,\n    low_memory\u003dFalse)"
    },
    {
      "cell_type": "code",
      "execution_count": 12,
      "metadata": {
        "pycharm": {}
      },
      "outputs": [
        {
          "data": {
            "text/plain": [
              "height                       0.0\n",
              "width                        0.0\n",
              "aratio                       0.0\n",
              "local                        0.0\n",
              "url*images+buttons           0.0\n",
              "url*likesbooks.com           0.0\n",
              "url*www.slake.com            0.0\n",
              "url*hydrogeologist           0.0\n",
              "url*oso                      0.0\n",
              "url*media                    0.0\n",
              "url*peace+images             0.0\n",
              "url*blipverts                0.0\n",
              "url*tkaine+kats              0.0\n",
              "url*labyrinth                0.0\n",
              "url*advertising+blipverts    0.0\n",
              "url*images+oso               0.0\n",
              "url*area51+corridor          0.0\n",
              "url*ran+gifs                 0.0\n",
              "url*express-scripts.com      0.0\n",
              "url*off                      0.0\n",
              "url*cnet                     0.0\n",
              "url*time+1998                0.0\n",
              "url*josefina3                0.0\n",
              "url*truluck.com              0.0\n",
              "url*clawnext+gif             0.0\n",
              "url*autopen.com              0.0\n",
              "url*tvgen.com                0.0\n",
              "url*pixs                     0.0\n",
              "url*heartland+5309           0.0\n",
              "url*meadows+9196             0.0\n",
              "                            ... \n",
              "alt*award                    0.0\n",
              "alt*services                 0.0\n",
              "alt*about                    0.0\n",
              "alt*for                      0.0\n",
              "alt*here+to                  0.0\n",
              "alt*network                  0.0\n",
              "alt*you                      0.0\n",
              "alt*logo                     0.0\n",
              "alt*home                     0.0\n",
              "alt*kat                      0.0\n",
              "caption*and                  0.0\n",
              "caption*home+page            0.0\n",
              "caption*click+here           0.0\n",
              "caption*the                  0.0\n",
              "caption*pratchett            0.0\n",
              "caption*here+for             0.0\n",
              "caption*site                 0.0\n",
              "caption*page                 0.0\n",
              "caption*to                   0.0\n",
              "caption*of                   0.0\n",
              "caption*home                 0.0\n",
              "caption*my                   0.0\n",
              "caption*your                 0.0\n",
              "caption*in                   0.0\n",
              "caption*bytes                0.0\n",
              "caption*here                 0.0\n",
              "caption*click                0.0\n",
              "caption*for                  0.0\n",
              "caption*you                  0.0\n",
              "ad-nonad                     0.0\n",
              "Length: 1559, dtype: float64"
            ]
          },
          "execution_count": 12,
          "metadata": {},
          "output_type": "execute_result"
        }
      ],
      "source": [
        "# Checking the percentage of missing values in each feature/attribute\n",
        "dataset.isnull().sum()/len(dataset)*100"
      ]
    },
    {
      "cell_type": "code",
      "execution_count": 13,
      "metadata": {
        "pycharm": {}
      },
      "outputs": [],
      "source": [
        "# Handle missing data\n",
        "dataset \u003d dataset.replace(\u0027?\u0027,np.nan)\n",
        "dataset \u003d dataset.replace(\u0027   ?\u0027,np.nan)\n",
        "dataset \u003d dataset.replace(\u0027     ?\u0027,np.nan)"
      ]
    },
    {
      "cell_type": "code",
      "execution_count": 14,
      "metadata": {
        "pycharm": {}
      },
      "outputs": [],
      "source": [
        "# Replace null values with mode value\n",
        "from sklearn.impute import SimpleImputer\n",
        "imputer \u003d SimpleImputer(missing_values\u003dnp.nan,strategy\u003d\u0027most_frequent\u0027)\n",
        "dataset.iloc[:,0:4] \u003d imputer.fit_transform(dataset.iloc[:,0:4])"
      ]
    },
    {
      "cell_type": "code",
      "execution_count": 15,
      "metadata": {
        "pycharm": {}
      },
      "outputs": [
        {
          "data": {
            "text/html": [
              "\u003cdiv\u003e\n",
              "\u003cstyle scoped\u003e\n",
              "    .dataframe tbody tr th:only-of-type {\n",
              "        vertical-align: middle;\n",
              "    }\n",
              "\n",
              "    .dataframe tbody tr th {\n",
              "        vertical-align: top;\n",
              "    }\n",
              "\n",
              "    .dataframe thead th {\n",
              "        text-align: right;\n",
              "    }\n",
              "\u003c/style\u003e\n",
              "\u003ctable border\u003d\"1\" class\u003d\"dataframe\"\u003e\n",
              "  \u003cthead\u003e\n",
              "    \u003ctr style\u003d\"text-align: right;\"\u003e\n",
              "      \u003cth\u003e\u003c/th\u003e\n",
              "      \u003cth\u003eurl*images+buttons\u003c/th\u003e\n",
              "      \u003cth\u003eurl*likesbooks.com\u003c/th\u003e\n",
              "      \u003cth\u003eurl*www.slake.com\u003c/th\u003e\n",
              "      \u003cth\u003eurl*hydrogeologist\u003c/th\u003e\n",
              "      \u003cth\u003eurl*oso\u003c/th\u003e\n",
              "      \u003cth\u003eurl*media\u003c/th\u003e\n",
              "      \u003cth\u003eurl*peace+images\u003c/th\u003e\n",
              "      \u003cth\u003eurl*blipverts\u003c/th\u003e\n",
              "      \u003cth\u003eurl*tkaine+kats\u003c/th\u003e\n",
              "      \u003cth\u003eurl*labyrinth\u003c/th\u003e\n",
              "      \u003cth\u003e...\u003c/th\u003e\n",
              "      \u003cth\u003ecaption*home\u003c/th\u003e\n",
              "      \u003cth\u003ecaption*my\u003c/th\u003e\n",
              "      \u003cth\u003ecaption*your\u003c/th\u003e\n",
              "      \u003cth\u003ecaption*in\u003c/th\u003e\n",
              "      \u003cth\u003ecaption*bytes\u003c/th\u003e\n",
              "      \u003cth\u003ecaption*here\u003c/th\u003e\n",
              "      \u003cth\u003ecaption*click\u003c/th\u003e\n",
              "      \u003cth\u003ecaption*for\u003c/th\u003e\n",
              "      \u003cth\u003ecaption*you\u003c/th\u003e\n",
              "      \u003cth\u003ead-nonad\u003c/th\u003e\n",
              "    \u003c/tr\u003e\n",
              "  \u003c/thead\u003e\n",
              "  \u003ctbody\u003e\n",
              "    \u003ctr\u003e\n",
              "      \u003cth\u003ecount\u003c/th\u003e\n",
              "      \u003ctd\u003e3279.000000\u003c/td\u003e\n",
              "      \u003ctd\u003e3279.000000\u003c/td\u003e\n",
              "      \u003ctd\u003e3279.000000\u003c/td\u003e\n",
              "      \u003ctd\u003e3279.000000\u003c/td\u003e\n",
              "      \u003ctd\u003e3279.000000\u003c/td\u003e\n",
              "      \u003ctd\u003e3279.000000\u003c/td\u003e\n",
              "      \u003ctd\u003e3279.000000\u003c/td\u003e\n",
              "      \u003ctd\u003e3279.000000\u003c/td\u003e\n",
              "      \u003ctd\u003e3279.000000\u003c/td\u003e\n",
              "      \u003ctd\u003e3279.000000\u003c/td\u003e\n",
              "      \u003ctd\u003e...\u003c/td\u003e\n",
              "      \u003ctd\u003e3279.000000\u003c/td\u003e\n",
              "      \u003ctd\u003e3279.000000\u003c/td\u003e\n",
              "      \u003ctd\u003e3279.000000\u003c/td\u003e\n",
              "      \u003ctd\u003e3279.000000\u003c/td\u003e\n",
              "      \u003ctd\u003e3279.000000\u003c/td\u003e\n",
              "      \u003ctd\u003e3279.000000\u003c/td\u003e\n",
              "      \u003ctd\u003e3279.000000\u003c/td\u003e\n",
              "      \u003ctd\u003e3279.000000\u003c/td\u003e\n",
              "      \u003ctd\u003e3279.000000\u003c/td\u003e\n",
              "      \u003ctd\u003e3279.000000\u003c/td\u003e\n",
              "    \u003c/tr\u003e\n",
              "    \u003ctr\u003e\n",
              "      \u003cth\u003emean\u003c/th\u003e\n",
              "      \u003ctd\u003e0.004270\u003c/td\u003e\n",
              "      \u003ctd\u003e0.011589\u003c/td\u003e\n",
              "      \u003ctd\u003e0.004575\u003c/td\u003e\n",
              "      \u003ctd\u003e0.003355\u003c/td\u003e\n",
              "      \u003ctd\u003e0.003965\u003c/td\u003e\n",
              "      \u003ctd\u003e0.011589\u003c/td\u003e\n",
              "      \u003ctd\u003e0.003355\u003c/td\u003e\n",
              "      \u003ctd\u003e0.004880\u003c/td\u003e\n",
              "      \u003ctd\u003e0.009149\u003c/td\u003e\n",
              "      \u003ctd\u003e0.004575\u003c/td\u003e\n",
              "      \u003ctd\u003e...\u003c/td\u003e\n",
              "      \u003ctd\u003e0.004575\u003c/td\u003e\n",
              "      \u003ctd\u003e0.003660\u003c/td\u003e\n",
              "      \u003ctd\u003e0.002440\u003c/td\u003e\n",
              "      \u003ctd\u003e0.003050\u003c/td\u003e\n",
              "      \u003ctd\u003e0.006404\u003c/td\u003e\n",
              "      \u003ctd\u003e0.012809\u003c/td\u003e\n",
              "      \u003ctd\u003e0.013419\u003c/td\u003e\n",
              "      \u003ctd\u003e0.009759\u003c/td\u003e\n",
              "      \u003ctd\u003e0.001525\u003c/td\u003e\n",
              "      \u003ctd\u003e0.860018\u003c/td\u003e\n",
              "    \u003c/tr\u003e\n",
              "    \u003ctr\u003e\n",
              "      \u003cth\u003estd\u003c/th\u003e\n",
              "      \u003ctd\u003e0.065212\u003c/td\u003e\n",
              "      \u003ctd\u003e0.107042\u003c/td\u003e\n",
              "      \u003ctd\u003e0.067491\u003c/td\u003e\n",
              "      \u003ctd\u003e0.057831\u003c/td\u003e\n",
              "      \u003ctd\u003e0.062850\u003c/td\u003e\n",
              "      \u003ctd\u003e0.107042\u003c/td\u003e\n",
              "      \u003ctd\u003e0.057831\u003c/td\u003e\n",
              "      \u003ctd\u003e0.069694\u003c/td\u003e\n",
              "      \u003ctd\u003e0.095227\u003c/td\u003e\n",
              "      \u003ctd\u003e0.067491\u003c/td\u003e\n",
              "      \u003ctd\u003e...\u003c/td\u003e\n",
              "      \u003ctd\u003e0.067491\u003c/td\u003e\n",
              "      \u003ctd\u003e0.060393\u003c/td\u003e\n",
              "      \u003ctd\u003e0.049341\u003c/td\u003e\n",
              "      \u003ctd\u003e0.055148\u003c/td\u003e\n",
              "      \u003ctd\u003e0.079783\u003c/td\u003e\n",
              "      \u003ctd\u003e0.112466\u003c/td\u003e\n",
              "      \u003ctd\u003e0.115077\u003c/td\u003e\n",
              "      \u003ctd\u003e0.098320\u003c/td\u003e\n",
              "      \u003ctd\u003e0.039026\u003c/td\u003e\n",
              "      \u003ctd\u003e0.347021\u003c/td\u003e\n",
              "    \u003c/tr\u003e\n",
              "    \u003ctr\u003e\n",
              "      \u003cth\u003emin\u003c/th\u003e\n",
              "      \u003ctd\u003e0.000000\u003c/td\u003e\n",
              "      \u003ctd\u003e0.000000\u003c/td\u003e\n",
              "      \u003ctd\u003e0.000000\u003c/td\u003e\n",
              "      \u003ctd\u003e0.000000\u003c/td\u003e\n",
              "      \u003ctd\u003e0.000000\u003c/td\u003e\n",
              "      \u003ctd\u003e0.000000\u003c/td\u003e\n",
              "      \u003ctd\u003e0.000000\u003c/td\u003e\n",
              "      \u003ctd\u003e0.000000\u003c/td\u003e\n",
              "      \u003ctd\u003e0.000000\u003c/td\u003e\n",
              "      \u003ctd\u003e0.000000\u003c/td\u003e\n",
              "      \u003ctd\u003e...\u003c/td\u003e\n",
              "      \u003ctd\u003e0.000000\u003c/td\u003e\n",
              "      \u003ctd\u003e0.000000\u003c/td\u003e\n",
              "      \u003ctd\u003e0.000000\u003c/td\u003e\n",
              "      \u003ctd\u003e0.000000\u003c/td\u003e\n",
              "      \u003ctd\u003e0.000000\u003c/td\u003e\n",
              "      \u003ctd\u003e0.000000\u003c/td\u003e\n",
              "      \u003ctd\u003e0.000000\u003c/td\u003e\n",
              "      \u003ctd\u003e0.000000\u003c/td\u003e\n",
              "      \u003ctd\u003e0.000000\u003c/td\u003e\n",
              "      \u003ctd\u003e0.000000\u003c/td\u003e\n",
              "    \u003c/tr\u003e\n",
              "    \u003ctr\u003e\n",
              "      \u003cth\u003e25%\u003c/th\u003e\n",
              "      \u003ctd\u003e0.000000\u003c/td\u003e\n",
              "      \u003ctd\u003e0.000000\u003c/td\u003e\n",
              "      \u003ctd\u003e0.000000\u003c/td\u003e\n",
              "      \u003ctd\u003e0.000000\u003c/td\u003e\n",
              "      \u003ctd\u003e0.000000\u003c/td\u003e\n",
              "      \u003ctd\u003e0.000000\u003c/td\u003e\n",
              "      \u003ctd\u003e0.000000\u003c/td\u003e\n",
              "      \u003ctd\u003e0.000000\u003c/td\u003e\n",
              "      \u003ctd\u003e0.000000\u003c/td\u003e\n",
              "      \u003ctd\u003e0.000000\u003c/td\u003e\n",
              "      \u003ctd\u003e...\u003c/td\u003e\n",
              "      \u003ctd\u003e0.000000\u003c/td\u003e\n",
              "      \u003ctd\u003e0.000000\u003c/td\u003e\n",
              "      \u003ctd\u003e0.000000\u003c/td\u003e\n",
              "      \u003ctd\u003e0.000000\u003c/td\u003e\n",
              "      \u003ctd\u003e0.000000\u003c/td\u003e\n",
              "      \u003ctd\u003e0.000000\u003c/td\u003e\n",
              "      \u003ctd\u003e0.000000\u003c/td\u003e\n",
              "      \u003ctd\u003e0.000000\u003c/td\u003e\n",
              "      \u003ctd\u003e0.000000\u003c/td\u003e\n",
              "      \u003ctd\u003e1.000000\u003c/td\u003e\n",
              "    \u003c/tr\u003e\n",
              "    \u003ctr\u003e\n",
              "      \u003cth\u003e50%\u003c/th\u003e\n",
              "      \u003ctd\u003e0.000000\u003c/td\u003e\n",
              "      \u003ctd\u003e0.000000\u003c/td\u003e\n",
              "      \u003ctd\u003e0.000000\u003c/td\u003e\n",
              "      \u003ctd\u003e0.000000\u003c/td\u003e\n",
              "      \u003ctd\u003e0.000000\u003c/td\u003e\n",
              "      \u003ctd\u003e0.000000\u003c/td\u003e\n",
              "      \u003ctd\u003e0.000000\u003c/td\u003e\n",
              "      \u003ctd\u003e0.000000\u003c/td\u003e\n",
              "      \u003ctd\u003e0.000000\u003c/td\u003e\n",
              "      \u003ctd\u003e0.000000\u003c/td\u003e\n",
              "      \u003ctd\u003e...\u003c/td\u003e\n",
              "      \u003ctd\u003e0.000000\u003c/td\u003e\n",
              "      \u003ctd\u003e0.000000\u003c/td\u003e\n",
              "      \u003ctd\u003e0.000000\u003c/td\u003e\n",
              "      \u003ctd\u003e0.000000\u003c/td\u003e\n",
              "      \u003ctd\u003e0.000000\u003c/td\u003e\n",
              "      \u003ctd\u003e0.000000\u003c/td\u003e\n",
              "      \u003ctd\u003e0.000000\u003c/td\u003e\n",
              "      \u003ctd\u003e0.000000\u003c/td\u003e\n",
              "      \u003ctd\u003e0.000000\u003c/td\u003e\n",
              "      \u003ctd\u003e1.000000\u003c/td\u003e\n",
              "    \u003c/tr\u003e\n",
              "    \u003ctr\u003e\n",
              "      \u003cth\u003e75%\u003c/th\u003e\n",
              "      \u003ctd\u003e0.000000\u003c/td\u003e\n",
              "      \u003ctd\u003e0.000000\u003c/td\u003e\n",
              "      \u003ctd\u003e0.000000\u003c/td\u003e\n",
              "      \u003ctd\u003e0.000000\u003c/td\u003e\n",
              "      \u003ctd\u003e0.000000\u003c/td\u003e\n",
              "      \u003ctd\u003e0.000000\u003c/td\u003e\n",
              "      \u003ctd\u003e0.000000\u003c/td\u003e\n",
              "      \u003ctd\u003e0.000000\u003c/td\u003e\n",
              "      \u003ctd\u003e0.000000\u003c/td\u003e\n",
              "      \u003ctd\u003e0.000000\u003c/td\u003e\n",
              "      \u003ctd\u003e...\u003c/td\u003e\n",
              "      \u003ctd\u003e0.000000\u003c/td\u003e\n",
              "      \u003ctd\u003e0.000000\u003c/td\u003e\n",
              "      \u003ctd\u003e0.000000\u003c/td\u003e\n",
              "      \u003ctd\u003e0.000000\u003c/td\u003e\n",
              "      \u003ctd\u003e0.000000\u003c/td\u003e\n",
              "      \u003ctd\u003e0.000000\u003c/td\u003e\n",
              "      \u003ctd\u003e0.000000\u003c/td\u003e\n",
              "      \u003ctd\u003e0.000000\u003c/td\u003e\n",
              "      \u003ctd\u003e0.000000\u003c/td\u003e\n",
              "      \u003ctd\u003e1.000000\u003c/td\u003e\n",
              "    \u003c/tr\u003e\n",
              "    \u003ctr\u003e\n",
              "      \u003cth\u003emax\u003c/th\u003e\n",
              "      \u003ctd\u003e1.000000\u003c/td\u003e\n",
              "      \u003ctd\u003e1.000000\u003c/td\u003e\n",
              "      \u003ctd\u003e1.000000\u003c/td\u003e\n",
              "      \u003ctd\u003e1.000000\u003c/td\u003e\n",
              "      \u003ctd\u003e1.000000\u003c/td\u003e\n",
              "      \u003ctd\u003e1.000000\u003c/td\u003e\n",
              "      \u003ctd\u003e1.000000\u003c/td\u003e\n",
              "      \u003ctd\u003e1.000000\u003c/td\u003e\n",
              "      \u003ctd\u003e1.000000\u003c/td\u003e\n",
              "      \u003ctd\u003e1.000000\u003c/td\u003e\n",
              "      \u003ctd\u003e...\u003c/td\u003e\n",
              "      \u003ctd\u003e1.000000\u003c/td\u003e\n",
              "      \u003ctd\u003e1.000000\u003c/td\u003e\n",
              "      \u003ctd\u003e1.000000\u003c/td\u003e\n",
              "      \u003ctd\u003e1.000000\u003c/td\u003e\n",
              "      \u003ctd\u003e1.000000\u003c/td\u003e\n",
              "      \u003ctd\u003e1.000000\u003c/td\u003e\n",
              "      \u003ctd\u003e1.000000\u003c/td\u003e\n",
              "      \u003ctd\u003e1.000000\u003c/td\u003e\n",
              "      \u003ctd\u003e1.000000\u003c/td\u003e\n",
              "      \u003ctd\u003e1.000000\u003c/td\u003e\n",
              "    \u003c/tr\u003e\n",
              "  \u003c/tbody\u003e\n",
              "\u003c/table\u003e\n",
              "\u003cp\u003e8 rows × 1555 columns\u003c/p\u003e\n",
              "\u003c/div\u003e"
            ],
            "text/plain": [
              "       url*images+buttons  url*likesbooks.com  url*www.slake.com  \\\n",
              "count         3279.000000         3279.000000        3279.000000   \n",
              "mean             0.004270            0.011589           0.004575   \n",
              "std              0.065212            0.107042           0.067491   \n",
              "min              0.000000            0.000000           0.000000   \n",
              "25%              0.000000            0.000000           0.000000   \n",
              "50%              0.000000            0.000000           0.000000   \n",
              "75%              0.000000            0.000000           0.000000   \n",
              "max              1.000000            1.000000           1.000000   \n",
              "\n",
              "       url*hydrogeologist      url*oso    url*media  url*peace+images  \\\n",
              "count         3279.000000  3279.000000  3279.000000       3279.000000   \n",
              "mean             0.003355     0.003965     0.011589          0.003355   \n",
              "std              0.057831     0.062850     0.107042          0.057831   \n",
              "min              0.000000     0.000000     0.000000          0.000000   \n",
              "25%              0.000000     0.000000     0.000000          0.000000   \n",
              "50%              0.000000     0.000000     0.000000          0.000000   \n",
              "75%              0.000000     0.000000     0.000000          0.000000   \n",
              "max              1.000000     1.000000     1.000000          1.000000   \n",
              "\n",
              "       url*blipverts  url*tkaine+kats  url*labyrinth  ...  caption*home  \\\n",
              "count    3279.000000      3279.000000    3279.000000  ...   3279.000000   \n",
              "mean        0.004880         0.009149       0.004575  ...      0.004575   \n",
              "std         0.069694         0.095227       0.067491  ...      0.067491   \n",
              "min         0.000000         0.000000       0.000000  ...      0.000000   \n",
              "25%         0.000000         0.000000       0.000000  ...      0.000000   \n",
              "50%         0.000000         0.000000       0.000000  ...      0.000000   \n",
              "75%         0.000000         0.000000       0.000000  ...      0.000000   \n",
              "max         1.000000         1.000000       1.000000  ...      1.000000   \n",
              "\n",
              "        caption*my  caption*your   caption*in  caption*bytes  caption*here  \\\n",
              "count  3279.000000   3279.000000  3279.000000    3279.000000   3279.000000   \n",
              "mean      0.003660      0.002440     0.003050       0.006404      0.012809   \n",
              "std       0.060393      0.049341     0.055148       0.079783      0.112466   \n",
              "min       0.000000      0.000000     0.000000       0.000000      0.000000   \n",
              "25%       0.000000      0.000000     0.000000       0.000000      0.000000   \n",
              "50%       0.000000      0.000000     0.000000       0.000000      0.000000   \n",
              "75%       0.000000      0.000000     0.000000       0.000000      0.000000   \n",
              "max       1.000000      1.000000     1.000000       1.000000      1.000000   \n",
              "\n",
              "       caption*click  caption*for  caption*you     ad-nonad  \n",
              "count    3279.000000  3279.000000  3279.000000  3279.000000  \n",
              "mean        0.013419     0.009759     0.001525     0.860018  \n",
              "std         0.115077     0.098320     0.039026     0.347021  \n",
              "min         0.000000     0.000000     0.000000     0.000000  \n",
              "25%         0.000000     0.000000     0.000000     1.000000  \n",
              "50%         0.000000     0.000000     0.000000     1.000000  \n",
              "75%         0.000000     0.000000     0.000000     1.000000  \n",
              "max         1.000000     1.000000     1.000000     1.000000  \n",
              "\n",
              "[8 rows x 1555 columns]"
            ]
          },
          "execution_count": 15,
          "metadata": {},
          "output_type": "execute_result"
        }
      ],
      "source": [
        "# Label encode the y attribute\n",
        "# 0 - ad.\n",
        "# 1 - nonad.\n",
        "from sklearn.preprocessing import LabelEncoder\n",
        "label_encoder \u003d LabelEncoder()\n",
        "dataset.iloc[:,1558] \u003d label_encoder.fit_transform(dataset.iloc[:,1558])\n",
        "\n",
        "# Describe the dataset\n",
        "dataset.describe()"
      ]
    },
    {
      "cell_type": "code",
      "execution_count": 16,
      "metadata": {
        "pycharm": {}
      },
      "outputs": [],
      "source": [
        "# Feature extraction\n",
        "X \u003d dataset.iloc[:,:-1].values\n",
        "y \u003d dataset.iloc[:,-1].values"
      ]
    },
    {
      "cell_type": "code",
      "execution_count": 8,
      "metadata": {
        "pycharm": {}
      },
      "outputs": [
        {
          "name": "stdout",
          "output_type": "stream",
          "text": [
            "Chi2 score function. 30 selected attributes and their fit scores\n"
          ]
        },
        {
          "data": {
            "text/plain": [
              "[{\u0027width\u0027: 24645.94459079523},\n",
              " {\u0027ancurl*com\u0027: 1027.5898024704795},\n",
              " {\u0027url*ads\u0027: 850.0980613559348},\n",
              " {\u0027ancurl*click\u0027: 814.7100844130008},\n",
              " {\u0027alt*click\u0027: 624.5390113319156},\n",
              " {\u0027ancurl*redirect\u0027: 616.1754708351916},\n",
              " {\u0027ancurl*ng\u0027: 604.5578788480207},\n",
              " {\u0027alt*click+here\u0027: 598.4761298369539},\n",
              " {\u0027alt*here\u0027: 576.6482672053518},\n",
              " {\u0027aratio\u0027: 543.7864596628788},\n",
              " {\u0027ancurl*adid\u0027: 524.7351933744342},\n",
              " {\u0027ancurl*adid\u0027: 524.7351933744342},\n",
              " {\u0027ancurl*event\u0027: 469.4820957609907},\n",
              " {\u0027ancurl*ng+type\u0027: 463.3434324155194},\n",
              " {\u0027ancurl*ng+type\u0027: 463.3434324155194},\n",
              " {\u0027ancurl*ng+type\u0027: 463.3434324155194},\n",
              " {\u0027ancurl*ng+type\u0027: 463.3434324155194},\n",
              " {\u0027ancurl*ng+type\u0027: 463.3434324155194},\n",
              " {\u0027ancurl*2f\u0027: 457.2048988802811},\n",
              " {\u0027ancurl*redirect+http\u0027: 451.0665001479771},\n",
              " {\u0027ancurl*redirect+http\u0027: 451.0665001479771},\n",
              " {\u0027ancurl*http+www\u0027: 440.4651919441344},\n",
              " {\u0027alt*for\u0027: 359.3938429981922},\n",
              " {\u0027ancurl*2f+2fwww\u0027: 309.9374465556694},\n",
              " {\u0027ancurl*2f+2fwww\u0027: 309.9374465556694},\n",
              " {\u0027alt*here+for\u0027: 295.3774167026522},\n",
              " {\u0027ancurl*familyid\u0027: 294.9019607843137},\n",
              " {\u0027ancurl*familyid\u0027: 294.9019607843137},\n",
              " {\u0027ancurl*familyid\u0027: 294.9019607843137},\n",
              " {\u0027url*ad\u0027: 278.0520523785073}]"
            ]
          },
          "execution_count": 8,
          "metadata": {},
          "output_type": "execute_result"
        }
      ],
      "source": [
        "# Feature reduction\n",
        "# 1. chi2 - squared distribution\n",
        "from sklearn.feature_selection import SelectKBest\n",
        "from sklearn.feature_selection import chi2\n",
        "\n",
        "number_of_features \u003d 30\n",
        "\n",
        "# Feature selection\n",
        "test \u003d SelectKBest(score_func\u003dchi2,k\u003dnumber_of_features)\n",
        "fit \u003d test.fit(X,y)\n",
        "\n",
        "# Summarize scores\n",
        "np.set_printoptions(precision\u003d3)\n",
        "scores \u003d fit.scores_\n",
        "\n",
        "features \u003d fit.transform(X)\n",
        "# Summarize selected features\n",
        "\n",
        "def rank_features(scores,names,k):\n",
        "    max_indices \u003d []\n",
        "    a \u003d list(scores)\n",
        "    b \u003d list(scores)\n",
        "    for i in range(0, k):\n",
        "        max_indices.append(b.index(np.max(a)))\n",
        "        a.pop(a.index(np.max(a)))\n",
        "\n",
        "    ranks \u003d []\n",
        "    for i in range(0, len(max_indices)):\n",
        "        ranks.append({\n",
        "            \u0027{}\u0027.format(names[max_indices[i]]): scores[max_indices[i]]\n",
        "        })\n",
        "    return ranks\n",
        "\n",
        "print(\"Chi2 score function. {} selected attributes and their fit scores\".format(number_of_features))\n",
        "rank_features(scores,columns,number_of_features)"
      ]
    },
    {
      "cell_type": "code",
      "execution_count": null,
      "metadata": {
        "scrolled": false,
        "pycharm": {}
      },
      "outputs": [
        {
          "name": "stderr",
          "output_type": "stream",
          "text": [
            "/usr/lib/anaconda3/lib/python3.7/site-packages/sklearn/utils/validation.py:595: DataConversionWarning: Data with input dtype object was converted to float64 by StandardScaler.\n",
            "  warnings.warn(msg, DataConversionWarning)\n",
            "/usr/lib/anaconda3/lib/python3.7/site-packages/sklearn/utils/validation.py:595: DataConversionWarning: Data with input dtype object was converted to float64 by StandardScaler.\n",
            "  warnings.warn(msg, DataConversionWarning)\n"
          ]
        },
        {
          "name": "stdout",
          "output_type": "stream",
          "text": [
            "\u003d\u003d\u003d\u003d\u003d\u003d\u003d\u003d\u003d\u003d\u003d\u003d\u003d\u003d\u003d\u003d\u003d\u003d\u003d\u003d\u003d\u003d\u003d\u003d\u003d\u003d\u003d\u003d\u003d\u003d\n",
            "MODEL - knn\n",
            "\u003d\u003d\u003d\u003d\u003d\u003d\u003d\u003d\u003d\u003d\u003d\u003d\u003d\u003d\u003d\u003d\u003d\u003d\u003d\u003d\u003d\u003d\u003d\u003d\u003d\u003d\u003d\u003d\u003d\u003d\n",
            "\n",
            "**** RESULTS ****\n",
            "\n",
            "F-score: 99.2194%\n",
            "\n",
            "Mean: 96.4547%\n",
            "Standard Deviation: 0.6817%\n",
            "\n",
            "[[ 75   4]\n",
            " [  5 572]]\n",
            "\n",
            "Accuracy: 98.6280%\n",
            "\n",
            "\n",
            "**** CONFUSION MATRIX ****\n",
            "\n"
          ]
        },
        {
          "data": {
            "image/png": "[encoded data removed]",
            "text/plain": [
              "\u003cFigure size 432x288 with 2 Axes\u003e"
            ]
          },
          "metadata": {
            "needs_background": "light"
          },
          "output_type": "display_data"
        },
        {
          "name": "stdout",
          "output_type": "stream",
          "text": [
            "\u003d\u003d\u003d\u003d\u003d\u003d\u003d\u003d\u003d\u003d\u003d\u003d\u003d\u003d\u003d\u003d\u003d\u003d\u003d\u003d\u003d\u003d\u003d\u003d\u003d\u003d\u003d\u003d\u003d\u003d\n",
            "MODEL - gnb\n",
            "\u003d\u003d\u003d\u003d\u003d\u003d\u003d\u003d\u003d\u003d\u003d\u003d\u003d\u003d\u003d\u003d\u003d\u003d\u003d\u003d\u003d\u003d\u003d\u003d\u003d\u003d\u003d\u003d\u003d\u003d\n",
            "\n",
            "**** RESULTS ****\n",
            "\n",
            "F-score: 97.7586%\n",
            "\n",
            "Mean: 94.9290%\n",
            "Standard Deviation: 0.7261%\n",
            "\n",
            "[[ 63  16]\n",
            " [ 10 567]]\n",
            "\n",
            "Accuracy: 96.0366%\n",
            "\n",
            "\n",
            "**** CONFUSION MATRIX ****\n",
            "\n"
          ]
        },
        {
          "data": {
            "image/png": "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\u003d\u003d\n",
            "text/plain": [
              "\u003cFigure size 432x288 with 2 Axes\u003e"
            ]
          },
          "metadata": {
            "needs_background": "light"
          },
          "output_type": "display_data"
        },
        {
          "name": "stdout",
          "output_type": "stream",
          "text": [
            "\u003d\u003d\u003d\u003d\u003d\u003d\u003d\u003d\u003d\u003d\u003d\u003d\u003d\u003d\u003d\u003d\u003d\u003d\u003d\u003d\u003d\u003d\u003d\u003d\u003d\u003d\u003d\u003d\u003d\u003d\n",
            "MODEL - svm1\n",
            "\u003d\u003d\u003d\u003d\u003d\u003d\u003d\u003d\u003d\u003d\u003d\u003d\u003d\u003d\u003d\u003d\u003d\u003d\u003d\u003d\u003d\u003d\u003d\u003d\u003d\u003d\u003d\u003d\u003d\u003d\n",
            "\n",
            "**** RESULTS ****\n",
            "\n",
            "F-score: 98.1132%\n",
            "\n",
            "Mean: 94.8148%\n",
            "Standard Deviation: 0.9841%\n",
            "\n",
            "[[ 62  17]\n",
            " [  5 572]]\n",
            "\n",
            "Accuracy: 96.6463%\n",
            "\n",
            "\n",
            "**** CONFUSION MATRIX ****\n",
            "\n"
          ]
        },
        {
          "data": {
            "image/png": "[encoded data removed]",
            "text/plain": [
              "\u003cFigure size 432x288 with 2 Axes\u003e"
            ]
          },
          "metadata": {
            "needs_background": "light"
          },
          "output_type": "display_data"
        },
        {
          "name": "stdout",
          "output_type": "stream",
          "text": [
            "\u003d\u003d\u003d\u003d\u003d\u003d\u003d\u003d\u003d\u003d\u003d\u003d\u003d\u003d\u003d\u003d\u003d\u003d\u003d\u003d\u003d\u003d\u003d\u003d\u003d\u003d\u003d\u003d\u003d\u003d\n",
            "MODEL - svm2\n",
            "\u003d\u003d\u003d\u003d\u003d\u003d\u003d\u003d\u003d\u003d\u003d\u003d\u003d\u003d\u003d\u003d\u003d\u003d\u003d\u003d\u003d\u003d\u003d\u003d\u003d\u003d\u003d\u003d\u003d\u003d\n",
            "\n",
            "**** RESULTS ****\n",
            "\n",
            "F-score: 98.4536%\n",
            "\n"
          ]
        },
        {
          "name": "stderr",
          "output_type": "stream",
          "text": [
            "/usr/lib/anaconda3/lib/python3.7/site-packages/sklearn/svm/base.py:196: FutureWarning: The default value of gamma will change from \u0027auto\u0027 to \u0027scale\u0027 in version 0.22 to account better for unscaled features. Set gamma explicitly to \u0027auto\u0027 or \u0027scale\u0027 to avoid this warning.\n",
            "  \"avoid this warning.\", FutureWarning)\n",
            "/usr/lib/anaconda3/lib/python3.7/site-packages/sklearn/svm/base.py:196: FutureWarning: The default value of gamma will change from \u0027auto\u0027 to \u0027scale\u0027 in version 0.22 to account better for unscaled features. Set gamma explicitly to \u0027auto\u0027 or \u0027scale\u0027 to avoid this warning.\n",
            "  \"avoid this warning.\", FutureWarning)\n",
            "/usr/lib/anaconda3/lib/python3.7/site-packages/sklearn/svm/base.py:196: FutureWarning: The default value of gamma will change from \u0027auto\u0027 to \u0027scale\u0027 in version 0.22 to account better for unscaled features. Set gamma explicitly to \u0027auto\u0027 or \u0027scale\u0027 to avoid this warning.\n",
            "  \"avoid this warning.\", FutureWarning)\n",
            "/usr/lib/anaconda3/lib/python3.7/site-packages/sklearn/svm/base.py:196: FutureWarning: The default value of gamma will change from \u0027auto\u0027 to \u0027scale\u0027 in version 0.22 to account better for unscaled features. Set gamma explicitly to \u0027auto\u0027 or \u0027scale\u0027 to avoid this warning.\n",
            "  \"avoid this warning.\", FutureWarning)\n",
            "/usr/lib/anaconda3/lib/python3.7/site-packages/sklearn/svm/base.py:196: FutureWarning: The default value of gamma will change from \u0027auto\u0027 to \u0027scale\u0027 in version 0.22 to account better for unscaled features. Set gamma explicitly to \u0027auto\u0027 or \u0027scale\u0027 to avoid this warning.\n",
            "  \"avoid this warning.\", FutureWarning)\n",
            "/usr/lib/anaconda3/lib/python3.7/site-packages/sklearn/svm/base.py:196: FutureWarning: The default value of gamma will change from \u0027auto\u0027 to \u0027scale\u0027 in version 0.22 to account better for unscaled features. Set gamma explicitly to \u0027auto\u0027 or \u0027scale\u0027 to avoid this warning.\n",
            "  \"avoid this warning.\", FutureWarning)\n",
            "/usr/lib/anaconda3/lib/python3.7/site-packages/sklearn/svm/base.py:196: FutureWarning: The default value of gamma will change from \u0027auto\u0027 to \u0027scale\u0027 in version 0.22 to account better for unscaled features. Set gamma explicitly to \u0027auto\u0027 or \u0027scale\u0027 to avoid this warning.\n",
            "  \"avoid this warning.\", FutureWarning)\n",
            "/usr/lib/anaconda3/lib/python3.7/site-packages/sklearn/svm/base.py:196: FutureWarning: The default value of gamma will change from \u0027auto\u0027 to \u0027scale\u0027 in version 0.22 to account better for unscaled features. Set gamma explicitly to \u0027auto\u0027 or \u0027scale\u0027 to avoid this warning.\n",
            "  \"avoid this warning.\", FutureWarning)\n",
            "/usr/lib/anaconda3/lib/python3.7/site-packages/sklearn/svm/base.py:196: FutureWarning: The default value of gamma will change from \u0027auto\u0027 to \u0027scale\u0027 in version 0.22 to account better for unscaled features. Set gamma explicitly to \u0027auto\u0027 or \u0027scale\u0027 to avoid this warning.\n",
            "  \"avoid this warning.\", FutureWarning)\n",
            "/usr/lib/anaconda3/lib/python3.7/site-packages/sklearn/svm/base.py:196: FutureWarning: The default value of gamma will change from \u0027auto\u0027 to \u0027scale\u0027 in version 0.22 to account better for unscaled features. Set gamma explicitly to \u0027auto\u0027 or \u0027scale\u0027 to avoid this warning.\n",
            "  \"avoid this warning.\", FutureWarning)\n"
          ]
        },
        {
          "name": "stdout",
          "output_type": "stream",
          "text": [
            "Mean: 95.0057%\n",
            "Standard Deviation: 0.8257%\n",
            "\n",
            "[[ 65  14]\n",
            " [  4 573]]\n",
            "\n",
            "Accuracy: 97.2561%\n",
            "\n",
            "\n",
            "**** CONFUSION MATRIX ****\n",
            "\n"
          ]
        },
        {
          "data": {
            "image/png": "[encoded data removed]",
            "text/plain": [
              "\u003cFigure size 432x288 with 2 Axes\u003e"
            ]
          },
          "metadata": {
            "needs_background": "light"
          },
          "output_type": "display_data"
        },
        {
          "name": "stdout",
          "output_type": "stream",
          "text": [
            "\u003d\u003d\u003d\u003d\u003d\u003d\u003d\u003d\u003d\u003d\u003d\u003d\u003d\u003d\u003d\u003d\u003d\u003d\u003d\u003d\u003d\u003d\u003d\u003d\u003d\u003d\u003d\u003d\u003d\u003d\n",
            "MODEL - svm3\n",
            "\u003d\u003d\u003d\u003d\u003d\u003d\u003d\u003d\u003d\u003d\u003d\u003d\u003d\u003d\u003d\u003d\u003d\u003d\u003d\u003d\u003d\u003d\u003d\u003d\u003d\u003d\u003d\u003d\u003d\u003d\n",
            "\n",
            "**** RESULTS ****\n",
            "\n",
            "F-score: 96.1106%\n",
            "\n"
          ]
        },
        {
          "name": "stderr",
          "output_type": "stream",
          "text": [
            "/usr/lib/anaconda3/lib/python3.7/site-packages/sklearn/svm/base.py:196: FutureWarning: The default value of gamma will change from \u0027auto\u0027 to \u0027scale\u0027 in version 0.22 to account better for unscaled features. Set gamma explicitly to \u0027auto\u0027 or \u0027scale\u0027 to avoid this warning.\n",
            "  \"avoid this warning.\", FutureWarning)\n",
            "/usr/lib/anaconda3/lib/python3.7/site-packages/sklearn/svm/base.py:196: FutureWarning: The default value of gamma will change from \u0027auto\u0027 to \u0027scale\u0027 in version 0.22 to account better for unscaled features. Set gamma explicitly to \u0027auto\u0027 or \u0027scale\u0027 to avoid this warning.\n",
            "  \"avoid this warning.\", FutureWarning)\n",
            "/usr/lib/anaconda3/lib/python3.7/site-packages/sklearn/svm/base.py:196: FutureWarning: The default value of gamma will change from \u0027auto\u0027 to \u0027scale\u0027 in version 0.22 to account better for unscaled features. Set gamma explicitly to \u0027auto\u0027 or \u0027scale\u0027 to avoid this warning.\n",
            "  \"avoid this warning.\", FutureWarning)\n",
            "/usr/lib/anaconda3/lib/python3.7/site-packages/sklearn/svm/base.py:196: FutureWarning: The default value of gamma will change from \u0027auto\u0027 to \u0027scale\u0027 in version 0.22 to account better for unscaled features. Set gamma explicitly to \u0027auto\u0027 or \u0027scale\u0027 to avoid this warning.\n",
            "  \"avoid this warning.\", FutureWarning)\n",
            "/usr/lib/anaconda3/lib/python3.7/site-packages/sklearn/svm/base.py:196: FutureWarning: The default value of gamma will change from \u0027auto\u0027 to \u0027scale\u0027 in version 0.22 to account better for unscaled features. Set gamma explicitly to \u0027auto\u0027 or \u0027scale\u0027 to avoid this warning.\n",
            "  \"avoid this warning.\", FutureWarning)\n",
            "/usr/lib/anaconda3/lib/python3.7/site-packages/sklearn/svm/base.py:196: FutureWarning: The default value of gamma will change from \u0027auto\u0027 to \u0027scale\u0027 in version 0.22 to account better for unscaled features. Set gamma explicitly to \u0027auto\u0027 or \u0027scale\u0027 to avoid this warning.\n",
            "  \"avoid this warning.\", FutureWarning)\n",
            "/usr/lib/anaconda3/lib/python3.7/site-packages/sklearn/svm/base.py:196: FutureWarning: The default value of gamma will change from \u0027auto\u0027 to \u0027scale\u0027 in version 0.22 to account better for unscaled features. Set gamma explicitly to \u0027auto\u0027 or \u0027scale\u0027 to avoid this warning.\n",
            "  \"avoid this warning.\", FutureWarning)\n",
            "/usr/lib/anaconda3/lib/python3.7/site-packages/sklearn/svm/base.py:196: FutureWarning: The default value of gamma will change from \u0027auto\u0027 to \u0027scale\u0027 in version 0.22 to account better for unscaled features. Set gamma explicitly to \u0027auto\u0027 or \u0027scale\u0027 to avoid this warning.\n",
            "  \"avoid this warning.\", FutureWarning)\n",
            "/usr/lib/anaconda3/lib/python3.7/site-packages/sklearn/svm/base.py:196: FutureWarning: The default value of gamma will change from \u0027auto\u0027 to \u0027scale\u0027 in version 0.22 to account better for unscaled features. Set gamma explicitly to \u0027auto\u0027 or \u0027scale\u0027 to avoid this warning.\n",
            "  \"avoid this warning.\", FutureWarning)\n",
            "/usr/lib/anaconda3/lib/python3.7/site-packages/sklearn/svm/base.py:196: FutureWarning: The default value of gamma will change from \u0027auto\u0027 to \u0027scale\u0027 in version 0.22 to account better for unscaled features. Set gamma explicitly to \u0027auto\u0027 or \u0027scale\u0027 to avoid this warning.\n",
            "  \"avoid this warning.\", FutureWarning)\n"
          ]
        },
        {
          "name": "stdout",
          "output_type": "stream",
          "text": [
            "Mean: 93.1746%\n",
            "Standard Deviation: 1.1934%\n",
            "\n",
            "[[ 55  24]\n",
            " [ 21 556]]\n",
            "\n",
            "Accuracy: 93.1402%\n",
            "\n",
            "\n",
            "**** CONFUSION MATRIX ****\n",
            "\n"
          ]
        },
        {
          "data": {
            "image/png": "[encoded data removed]",
            "text/plain": [
              "\u003cFigure size 432x288 with 2 Axes\u003e"
            ]
          },
          "metadata": {
            "needs_background": "light"
          },
          "output_type": "display_data"
        },
        {
          "name": "stdout",
          "output_type": "stream",
          "text": [
            "\u003d\u003d\u003d\u003d\u003d\u003d\u003d\u003d\u003d\u003d\u003d\u003d\u003d\u003d\u003d\u003d\u003d\u003d\u003d\u003d\u003d\u003d\u003d\u003d\u003d\u003d\u003d\u003d\u003d\u003d\n",
            "MODEL - mlp1\n",
            "\u003d\u003d\u003d\u003d\u003d\u003d\u003d\u003d\u003d\u003d\u003d\u003d\u003d\u003d\u003d\u003d\u003d\u003d\u003d\u003d\u003d\u003d\u003d\u003d\u003d\u003d\u003d\u003d\u003d\u003d\n",
            "\n",
            "**** RESULTS ****\n",
            "\n",
            "F-score: 98.8725%\n",
            "\n"
          ]
        },
        {
          "name": "stderr",
          "output_type": "stream",
          "text": [
            "/usr/lib/anaconda3/lib/python3.7/site-packages/sklearn/neural_network/multilayer_perceptron.py:562: ConvergenceWarning: Stochastic Optimizer: Maximum iterations (200) reached and the optimization hasn\u0027t converged yet.\n",
            "  % self.max_iter, ConvergenceWarning)\n"
          ]
        },
        {
          "name": "stdout",
          "output_type": "stream",
          "text": [
            "Mean: 96.6450%\n",
            "Standard Deviation: 0.5863%\n",
            "\n",
            "[[ 73   6]\n",
            " [  7 570]]\n",
            "\n",
            "Accuracy: 98.0183%\n",
            "\n",
            "\n",
            "**** CONFUSION MATRIX ****\n",
            "\n"
          ]
        },
        {
          "data": {
            "image/png": "[encoded data removed]",
            "text/plain": [
              "\u003cFigure size 432x288 with 2 Axes\u003e"
            ]
          },
          "metadata": {
            "needs_background": "light"
          },
          "output_type": "display_data"
        },
        {
          "name": "stdout",
          "output_type": "stream",
          "text": [
            "\u003d\u003d\u003d\u003d\u003d\u003d\u003d\u003d\u003d\u003d\u003d\u003d\u003d\u003d\u003d\u003d\u003d\u003d\u003d\u003d\u003d\u003d\u003d\u003d\u003d\u003d\u003d\u003d\u003d\u003d\n",
            "MODEL - mlp2\n",
            "\u003d\u003d\u003d\u003d\u003d\u003d\u003d\u003d\u003d\u003d\u003d\u003d\u003d\u003d\u003d\u003d\u003d\u003d\u003d\u003d\u003d\u003d\u003d\u003d\u003d\u003d\u003d\u003d\u003d\u003d\n"
          ]
        },
        {
          "name": "stderr",
          "output_type": "stream",
          "text": [
            "/usr/lib/anaconda3/lib/python3.7/site-packages/sklearn/neural_network/multilayer_perceptron.py:562: ConvergenceWarning: Stochastic Optimizer: Maximum iterations (200) reached and the optimization hasn\u0027t converged yet.\n",
            "  % self.max_iter, ConvergenceWarning)\n"
          ]
        },
        {
          "name": "stdout",
          "output_type": "stream",
          "text": [
            "\n",
            "**** RESULTS ****\n",
            "\n",
            "F-score: 99.1349%\n",
            "\n"
          ]
        }
      ],
      "source": [
        "# Feature scaling\n",
        "from sklearn.preprocessing import StandardScaler\n",
        "standard_scaler \u003d StandardScaler()\n",
        "X \u003d standard_scaler.fit_transform(features)\n",
        "\n",
        "# Split data into training and test set\n",
        "from sklearn.model_selection import train_test_split\n",
        "X_train,X_test, y_train, y_test \u003d train_test_split(X,y,test_size\u003d0.2,random_state\u003d0)\n",
        "\n",
        "# ------------------------------------------------------------------------------\n",
        "# Multiple Classifiers\n",
        "# ------------------------------------------------------------------------------\n",
        "from sklearn.neighbors import KNeighborsClassifier\n",
        "from sklearn.svm import SVC\n",
        "from sklearn.ensemble import RandomForestClassifier, AdaBoostClassifier, GradientBoostingClassifier\n",
        "from sklearn.naive_bayes import GaussianNB\n",
        "from sklearn.neural_network import MLPClassifier\n",
        "from sklearn.tree import DecisionTreeClassifier\n",
        "from sklearn.linear_model import LogisticRegression\n",
        "from sklearn.metrics import f1_score, confusion_matrix\n",
        "import matplotlib\n",
        "import matplotlib.pyplot as plt\n",
        "\n",
        "clfs \u003d {\n",
        "    \u0027knn\u0027: KNeighborsClassifier(5),\n",
        "    \u0027gnb\u0027: GaussianNB(),\n",
        "    \u0027svm1\u0027: SVC(kernel\u003d\u0027linear\u0027),\n",
        "    \u0027svm2\u0027: SVC(kernel\u003d\u0027rbf\u0027),\n",
        "    \u0027svm3\u0027: SVC(kernel\u003d\u0027sigmoid\u0027),\n",
        "    \u0027mlp1\u0027: MLPClassifier(),\n",
        "    \u0027mlp2\u0027: MLPClassifier(hidden_layer_sizes\u003d[100, 100]),\n",
        "    \u0027ada\u0027: AdaBoostClassifier(),\n",
        "    \u0027dtc\u0027: DecisionTreeClassifier(),\n",
        "    \u0027rfc\u0027: RandomForestClassifier(),\n",
        "    \u0027gbc\u0027: GradientBoostingClassifier(),\n",
        "    \u0027lr\u0027: LogisticRegression()\n",
        "}\n",
        "\n",
        "f1_scores \u003d dict()\n",
        "for clf_name in clfs:\n",
        "    print(\"\u003d\" * 30)\n",
        "    print(\"MODEL -\", clf_name)\n",
        "    print(\"\u003d\" * 30)\n",
        "    clf \u003d clfs[clf_name]\n",
        "    clf.fit(X, y)\n",
        "\n",
        "    print(\"\")\n",
        "    print(\u0027**** RESULTS ****\u0027)\n",
        "    print(\"\")\n",
        "    y_pred \u003d clf.predict(X_test)\n",
        "    f1_scores[clf_name] \u003d f1_score(y_test, y_pred)\n",
        "    print(\"F-score: {:.4%}\".format(f1_scores[clf_name]))\n",
        "    print(\"\")\n",
        "    # K-Fold cross validation\n",
        "    from sklearn.model_selection import cross_val_score\n",
        "    accuracies \u003d cross_val_score(estimator\u003dclf,X\u003dX_train,y\u003dy_train,cv\u003d10)\n",
        "    print(\"Mean: {:.4%}\".format(accuracies.mean()))\n",
        "    print(\"Standard Deviation: {:.4%}\".format(accuracies.std()))\n",
        "    print(\"\")\n",
        "\n",
        "    cm \u003d confusion_matrix(y_test, y_pred)\n",
        "    print(cm)\n",
        "    print(\"\")\n",
        "    accuracy \u003d (cm[0][0] + cm[1][1]) / np.sum(cm)\n",
        "    print(\"Accuracy: {:.4%}\".format(accuracy))\n",
        "    print(\"\")\n",
        "\n",
        "    print(\"\")\n",
        "    print(\u0027**** CONFUSION MATRIX ****\u0027)\n",
        "    print(\"\")\n",
        "    fig \u003d plt.figure()\n",
        "    ax \u003d fig.add_subplot(111)\n",
        "    cax \u003d ax.matshow(cm)\n",
        "    plt.title(\u0027Confusion matrix of the classifier\u0027)\n",
        "    fig.colorbar(cax)\n",
        "    plt.xlabel(\u0027Predicted\u0027)\n",
        "    plt.ylabel(\u0027True\u0027)\n",
        "    plt.show()"
      ]
    },
    {
      "cell_type": "code",
      "execution_count": null,
      "metadata": {
        "pycharm": {}
      },
      "outputs": [],
      "source": []
    }
  ],
  "metadata": {
    "kernelspec": {
      "display_name": "Python 3",
      "language": "python",
      "name": "python3"
    },
    "language_info": {
      "codemirror_mode": {
        "name": "ipython",
        "version": 3
      },
      "file_extension": ".py",
      "mimetype": "text/x-python",
      "name": "python",
      "nbconvert_exporter": "python",
      "pygments_lexer": "ipython3",
      "version": "3.7.3"
    }
  },
  "nbformat": 4,
  "nbformat_minor": 2
}